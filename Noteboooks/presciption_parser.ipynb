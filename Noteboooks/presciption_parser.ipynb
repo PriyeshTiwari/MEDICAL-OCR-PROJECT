{
 "cells": [
  {
   "cell_type": "code",
   "execution_count": 1,
   "id": "95fc7c02-fb03-4bc2-b2f1-dcd3dac28079",
   "metadata": {},
   "outputs": [],
   "source": [
    "from pdf2image import convert_from_path\n",
    "\n"
   ]
  },
  {
   "cell_type": "code",
   "execution_count": 2,
   "id": "b749e4e3-73be-4f76-b7bb-8d26cd36fa4c",
   "metadata": {},
   "outputs": [],
   "source": [
    "pages = convert_from_path(r'C:\\Medical_Project\\backend\\resources\\prescription\\pre_2.pdf', poppler_path=r\"C:\\poppler-24.02.0\\Library\\bin\")"
   ]
  },
  {
   "cell_type": "code",
   "execution_count": 3,
   "id": "371b4f2b-0d93-4af5-bdea-8af8a6b8e157",
   "metadata": {},
   "outputs": [
    {
     "data": {
      "text/plain": [
       "1"
      ]
     },
     "execution_count": 3,
     "metadata": {},
     "output_type": "execute_result"
    }
   ],
   "source": [
    "len(pages)"
   ]
  },
  {
   "cell_type": "code",
   "execution_count": 4,
   "id": "d5b9d85d-d3b5-4de2-a3cc-cf798c853118",
   "metadata": {},
   "outputs": [],
   "source": [
    "pages[0].show()"
   ]
  },
  {
   "cell_type": "code",
   "execution_count": 5,
   "id": "19102fa0-5f74-4e9b-ab89-62c94d4aa5a9",
   "metadata": {},
   "outputs": [],
   "source": [
    "import pytesseract\n"
   ]
  },
  {
   "cell_type": "code",
   "execution_count": 6,
   "id": "ea113076-9db6-44e0-8954-f04cd84c825b",
   "metadata": {},
   "outputs": [
    {
     "name": "stdout",
     "output_type": "stream",
     "text": [
      "Refill: 3 times\n",
      "\n",
      "\n"
     ]
    }
   ],
   "source": [
    "pytesseract.pytesseract.tesseract_cmd = r\"C:\\Program Files\\Tesseract-OCR\\tesseract.exe\"\n",
    "text = pytesseract.image_to_string(pages[0],lang='eng')\n",
    "print(text)"
   ]
  },
  {
   "cell_type": "code",
   "execution_count": 10,
   "id": "5ff23460-2b32-427f-ad76-993b61d4b89d",
   "metadata": {},
   "outputs": [],
   "source": [
    "import numpy as np\n",
    "import cv2\n",
    "from PIL import Image"
   ]
  },
  {
   "cell_type": "code",
   "execution_count": 11,
   "id": "4787ff0e-7f75-4757-a4a4-f53b0c4589d5",
   "metadata": {},
   "outputs": [],
   "source": [
    "def preprocess_image(img):\n",
    "    # Convert image to grayscale\n",
    "    gray = cv2.cvtColor(np.array(img), cv2.COLOR_BGR2GRAY)\n",
    "    \n",
    "    # Resize the image with a scaling factor of 1.5\n",
    "    resized = cv2.resize(gray, None, fx=1.5, fy=1.5, interpolation=cv2.INTER_LINEAR)\n",
    "    \n",
    "    # Apply adaptive thresholding\n",
    "    processed_image = cv2.adaptiveThreshold(resized,\n",
    "                                            255,\n",
    "                                            cv2.ADAPTIVE_THRESH_GAUSSIAN_C, \n",
    "                                            cv2.THRESH_BINARY,\n",
    "                                            61,\n",
    "                                            11)\n",
    "    return processed_image"
   ]
  },
  {
   "cell_type": "code",
   "execution_count": 12,
   "id": "ee17820c-c075-407f-9127-89a2abfab172",
   "metadata": {},
   "outputs": [],
   "source": [
    "img = preprocess_image(pages[0])"
   ]
  },
  {
   "cell_type": "code",
   "execution_count": 13,
   "id": "36ca85b2-885b-4723-97bc-73f4632d9918",
   "metadata": {},
   "outputs": [
    {
     "name": "stdout",
     "output_type": "stream",
     "text": [
      "Dr John >mith, M.D\n",
      "\n",
      "2 Non-Important street,\n",
      "New York, Phone (900)-323- ~2222\n",
      "\n",
      "Name:  Virat Kohli Date: 2/05/2022\n",
      "\n",
      "Address: 2 cricket blvd, New Delhi\n",
      "\n",
      "| Omeprazole 40 mg\n",
      "\n",
      "Directions: Use two tablets daily for three months\n",
      "\n",
      "Refill: 3 times\n",
      "\n"
     ]
    }
   ],
   "source": [
    "pytesseract.pytesseract.tesseract_cmd = r\"C:\\Program Files\\Tesseract-OCR\\tesseract.exe\"\n",
    "text = pytesseract.image_to_string(img,lang='eng')\n",
    "print(text)"
   ]
  },
  {
   "cell_type": "code",
   "execution_count": null,
   "id": "beca4107-b392-40b3-8b3c-90dd143b8cb5",
   "metadata": {},
   "outputs": [],
   "source": []
  }
 ],
 "metadata": {
  "kernelspec": {
   "display_name": "Python 3 (ipykernel)",
   "language": "python",
   "name": "python3"
  },
  "language_info": {
   "codemirror_mode": {
    "name": "ipython",
    "version": 3
   },
   "file_extension": ".py",
   "mimetype": "text/x-python",
   "name": "python",
   "nbconvert_exporter": "python",
   "pygments_lexer": "ipython3",
   "version": "3.11.7"
  }
 },
 "nbformat": 4,
 "nbformat_minor": 5
}
