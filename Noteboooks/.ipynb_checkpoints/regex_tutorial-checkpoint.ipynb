{
 "cells": [
  {
   "cell_type": "code",
   "execution_count": 1,
   "id": "2ee56961-65c7-4c8d-986c-7be0ab4be518",
   "metadata": {},
   "outputs": [],
   "source": [
    "import re "
   ]
  },
  {
   "cell_type": "code",
   "execution_count": 2,
   "id": "f54c272f-b35b-47fc-a2a6-886ad75643fd",
   "metadata": {},
   "outputs": [],
   "source": [
    "text = \"Patient's phone is 7321119999. Bill amount is 120$ \" "
   ]
  },
  {
   "cell_type": "markdown",
   "id": "295a820d-b7d8-4b01-9de9-420fd817babe",
   "metadata": {},
   "source": [
    "### Extract only phone number. Phone Number is always 10 digit number."
   ]
  },
  {
   "cell_type": "code",
   "execution_count": 6,
   "id": "c31c7a10-7db7-4633-972e-3d36bec9f86b",
   "metadata": {},
   "outputs": [],
   "source": [
    "pattern = \"\\d{10}\""
   ]
  },
  {
   "cell_type": "code",
   "execution_count": 7,
   "id": "b3a97cc9-9d2d-40f8-9362-fd85315fd0d7",
   "metadata": {},
   "outputs": [],
   "source": [
    "match = re.findall(pattern,text)"
   ]
  },
  {
   "cell_type": "code",
   "execution_count": 8,
   "id": "98c7fd70-8083-4636-94f2-94ec92a0f266",
   "metadata": {},
   "outputs": [
    {
     "data": {
      "text/plain": [
       "['7321119999']"
      ]
     },
     "execution_count": 8,
     "metadata": {},
     "output_type": "execute_result"
    }
   ],
   "source": [
    "match"
   ]
  },
  {
   "cell_type": "markdown",
   "id": "c950ba9e-5ccf-478e-a714-1c846a08d302",
   "metadata": {},
   "source": [
    "### Extract only phone number. Phone Number is always 10 digit number or follows this format (xxx)-xxx-xxxx"
   ]
  },
  {
   "cell_type": "code",
   "execution_count": 10,
   "id": "baba5c70-12e7-45b1-bfe0-33a167cea9e7",
   "metadata": {},
   "outputs": [
    {
     "data": {
      "text/plain": [
       "['7321119999']"
      ]
     },
     "execution_count": 10,
     "metadata": {},
     "output_type": "execute_result"
    }
   ],
   "source": [
    "pattern = \"\\(\\d{3}\\)-\\d{3}-\\d{4}|\\d{10}\" \n",
    "match = re.findall(pattern,text)\n",
    "match"
   ]
  },
  {
   "cell_type": "markdown",
   "id": "42fc4900-6b86-4014-9f80-ebe5d0777340",
   "metadata": {},
   "source": [
    "### Extract phone number and bill amount separately."
   ]
  },
  {
   "cell_type": "code",
   "execution_count": 11,
   "id": "52f74aae-0616-491c-b32f-59a290397c58",
   "metadata": {},
   "outputs": [],
   "source": [
    "pattern = \"(\\d{10})\\D+(\\d+)\\$\" \n",
    "match = re.search(pattern,text)\n",
    "match\n",
    "phone_number,bill_amount = match.groups()"
   ]
  },
  {
   "cell_type": "code",
   "execution_count": 12,
   "id": "1d157ebd-40fa-47f2-adc4-dc073aedcd02",
   "metadata": {},
   "outputs": [
    {
     "data": {
      "text/plain": [
       "'7321119999'"
      ]
     },
     "execution_count": 12,
     "metadata": {},
     "output_type": "execute_result"
    }
   ],
   "source": [
    "phone_number"
   ]
  },
  {
   "cell_type": "code",
   "execution_count": 13,
   "id": "df1bb661-4838-4517-84a7-86cdac720cb7",
   "metadata": {},
   "outputs": [
    {
     "data": {
      "text/plain": [
       "'120'"
      ]
     },
     "execution_count": 13,
     "metadata": {},
     "output_type": "execute_result"
    }
   ],
   "source": [
    "bill_amount"
   ]
  },
  {
   "cell_type": "code",
   "execution_count": 39,
   "id": "f88432dc-b356-4d26-8c8e-593de2c182db",
   "metadata": {},
   "outputs": [],
   "source": [
    "text_new='''Dr John Smith, M.D\n",
    "2 Non-Important Street,\n",
    "New York, Phone (000)-111-2222\n",
    "\n",
    "Name: Marta Sharapova Date: 5/11/2022\n",
    "\n",
    "Address: 9 tennis court, new Russia, DC\n",
    "\n",
    "\n",
    "\n",
    "Prednisone 20 mg\n",
    "Lialda 2.4 gram\n",
    "\n",
    "Directions:\n",
    "\n",
    "Prednisone, Taper 5 mig every 3 days,\n",
    "Finish in 2.5 weeks a\n",
    "Lialda - take 2 pill everyday for 1 month\n",
    "\n",
    "Refill: 2 times '''"
   ]
  },
  {
   "cell_type": "markdown",
   "id": "ad765a22-1fde-49ee-801d-3922b0788495",
   "metadata": {},
   "source": [
    "### For Name:"
   ]
  },
  {
   "cell_type": "code",
   "execution_count": 40,
   "id": "37f0ed14-d5e4-45ff-8621-9e09b40a2b5a",
   "metadata": {},
   "outputs": [
    {
     "data": {
      "text/plain": [
       "'Marta Sharapova'"
      ]
     },
     "execution_count": 40,
     "metadata": {},
     "output_type": "execute_result"
    }
   ],
   "source": [
    "pattern = \"Name:(.*)Date\"\n",
    "match = re.findall(pattern,text_new)\n",
    "match[0].strip()"
   ]
  },
  {
   "cell_type": "markdown",
   "id": "8dc4d56c-6b6c-45e6-b617-11bea26c62c8",
   "metadata": {},
   "source": [
    "### For Address:"
   ]
  },
  {
   "cell_type": "code",
   "execution_count": 41,
   "id": "35f7ca61-5d70-45d3-8bf0-1064f57d4d89",
   "metadata": {},
   "outputs": [
    {
     "data": {
      "text/plain": [
       "'9 tennis court, new Russia, DC'"
      ]
     },
     "execution_count": 41,
     "metadata": {},
     "output_type": "execute_result"
    }
   ],
   "source": [
    "pattern = \"Address:(.*)\\n\"\n",
    "match = re.findall(pattern,text_new)\n",
    "match[0].strip()"
   ]
  },
  {
   "cell_type": "markdown",
   "id": "90f9a559-2acb-4a06-ad0e-537c46642886",
   "metadata": {},
   "source": [
    "### For Medicine:"
   ]
  },
  {
   "cell_type": "code",
   "execution_count": 42,
   "id": "b2eaa6fc-fe3c-471c-958b-6853a1afab66",
   "metadata": {},
   "outputs": [
    {
     "name": "stdout",
     "output_type": "stream",
     "text": [
      "Prednisone 20 mg\n",
      "Lialda 2.4 gram\n"
     ]
    }
   ],
   "source": [
    "pattern = \"Address[^\\n]*(.*)Directions\"\n",
    "match = re.findall(pattern,text_new,flags=re.DOTALL)\n",
    "print(match[0].strip())"
   ]
  },
  {
   "cell_type": "code",
   "execution_count": null,
   "id": "d9ea319c-7494-4525-93e6-85ffbea86afa",
   "metadata": {},
   "outputs": [],
   "source": [
    "text = '''Directions:\n",
    "Prednisone, Taper 5 mg every 3 days, \n",
    "Finish in 2.5 weeks a Lialda - take 2 pills everyday for 1 month\n",
    "Refill: 2 times.'''"
   ]
  },
  {
   "cell_type": "markdown",
   "id": "4a98225d-1688-466c-8e2e-86a3b2b83a17",
   "metadata": {},
   "source": [
    "### For Directions:"
   ]
  },
  {
   "cell_type": "code",
   "execution_count": 45,
   "id": "bb5eefb6-8baa-4c99-925d-ed6dbb768355",
   "metadata": {},
   "outputs": [
    {
     "name": "stdout",
     "output_type": "stream",
     "text": [
      "Prednisone, Taper 5 mig every 3 days,\n",
      "Finish in 2.5 weeks a\n",
      "Lialda - take 2 pill everyday for 1 month\n"
     ]
    }
   ],
   "source": [
    "pattern = \"Directions:\\s*(.*?)\\s*Refill:\"\n",
    "match = re.findall(pattern,text_new,flags=re.DOTALL)\n",
    "print(match[0].strip())\n"
   ]
  },
  {
   "cell_type": "markdown",
   "id": "2ab56f5d-9e85-4331-9693-340c3073bf02",
   "metadata": {},
   "source": [
    "### For Refill:"
   ]
  },
  {
   "cell_type": "code",
   "execution_count": 46,
   "id": "98f967ba-c2e5-4454-bdd3-774294029938",
   "metadata": {},
   "outputs": [
    {
     "name": "stdout",
     "output_type": "stream",
     "text": [
      "2\n"
     ]
    }
   ],
   "source": [
    "pattern = \"Refill:\\s*(\\d+)\\s*times\"\n",
    "match = re.findall(pattern,text_new,flags=re.DOTALL)\n",
    "print(match[0].strip())"
   ]
  },
  {
   "cell_type": "markdown",
   "id": "6bfe5bc9-0c66-4b14-8588-b4fd3c31c66c",
   "metadata": {},
   "source": [
    "### Ques: Extract all Twitter handles from the following text (i.e. your answer should be teslarati, dummy_tesla, and dummy_2_tesla). Twitter handle is the text that appears after https://twitter.com/ and is a single word. Also, it contains only alphanumeric characters i.e. A-Z a-z, o to 9, and underscore _"
   ]
  },
  {
   "cell_type": "code",
   "execution_count": 47,
   "id": "bbfbd69c-9308-44c7-af9b-dc3423a52b29",
   "metadata": {},
   "outputs": [],
   "source": [
    "text='''Follow our leader Elon musk on Twitter \n",
    "here: https://twitter.com/elonmusk, more information \n",
    "on Tesla's products can be found at https://www.tesla.com/. \n",
    "Also here are leading influencers for tesla-related news, \n",
    "https://twitter.com/teslarati\n",
    "https://twitter.com/dummy_tesla\n",
    "https://twitter.com/dummy_2_tesla'''"
   ]
  },
  {
   "cell_type": "code",
   "execution_count": 54,
   "id": "77cd7461-3863-4e04-954a-8e3358287925",
   "metadata": {},
   "outputs": [
    {
     "name": "stdout",
     "output_type": "stream",
     "text": [
      "elonmusk\n",
      "teslarati\n",
      "dummy_tesla\n",
      "dummy_2_tesla\n"
     ]
    }
   ],
   "source": [
    "pattern = \"https:\\/\\/twitter\\.com\\/([a-zA-Z0-9_]+)\"\n",
    "match = re.findall(pattern,text,flags=re.DOTALL)\n",
    "for i in match:\n",
    "    print(i)"
   ]
  },
  {
   "cell_type": "code",
   "execution_count": null,
   "id": "685a49a9-03a3-4016-9fe4-48f655cfc55a",
   "metadata": {},
   "outputs": [],
   "source": []
  }
 ],
 "metadata": {
  "kernelspec": {
   "display_name": "Python 3 (ipykernel)",
   "language": "python",
   "name": "python3"
  },
  "language_info": {
   "codemirror_mode": {
    "name": "ipython",
    "version": 3
   },
   "file_extension": ".py",
   "mimetype": "text/x-python",
   "name": "python",
   "nbconvert_exporter": "python",
   "pygments_lexer": "ipython3",
   "version": "3.11.7"
  }
 },
 "nbformat": 4,
 "nbformat_minor": 5
}
