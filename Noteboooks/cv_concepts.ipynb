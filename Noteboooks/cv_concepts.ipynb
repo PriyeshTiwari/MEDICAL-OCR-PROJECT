{
 "cells": [
  {
   "cell_type": "code",
   "execution_count": 1,
   "id": "e2f87799-0d06-497d-910d-5c3c31b8c6db",
   "metadata": {},
   "outputs": [],
   "source": [
    "import cv2\n"
   ]
  },
  {
   "cell_type": "code",
   "execution_count": 3,
   "id": "82c5595c-1cd1-46b4-8544-7d1343e1299b",
   "metadata": {},
   "outputs": [],
   "source": [
    "from PIL import Image"
   ]
  },
  {
   "cell_type": "code",
   "execution_count": 11,
   "id": "00da154f-6348-494a-baae-cd3ba9e8a9ba",
   "metadata": {},
   "outputs": [],
   "source": [
    "img=cv2.imread(\"dark_image.jpg\", flags = cv2.IMREAD_GRAYSCALE)"
   ]
  },
  {
   "cell_type": "code",
   "execution_count": 12,
   "id": "38e4caf3-63d1-4d0e-8ad8-3f8d0b6bba45",
   "metadata": {},
   "outputs": [
    {
     "data": {
      "text/plain": [
       "array([[206, 206, 206, ..., 187, 186, 184],\n",
       "       [206, 206, 206, ..., 186, 185, 185],\n",
       "       [206, 206, 206, ..., 186, 185, 185],\n",
       "       ...,\n",
       "       [162, 157, 152, ..., 184, 184, 184],\n",
       "       [160, 156, 152, ..., 184, 184, 184],\n",
       "       [156, 158, 158, ..., 184, 184, 184]], dtype=uint8)"
      ]
     },
     "execution_count": 12,
     "metadata": {},
     "output_type": "execute_result"
    }
   ],
   "source": [
    "img"
   ]
  },
  {
   "cell_type": "code",
   "execution_count": 13,
   "id": "e909c5ec-e7a4-4da1-a281-845a1e13a1f4",
   "metadata": {},
   "outputs": [],
   "source": [
    "Image.fromarray(img).show()"
   ]
  },
  {
   "cell_type": "code",
   "execution_count": 14,
   "id": "b5ac25e7-3540-4948-aac8-3c1d6837babe",
   "metadata": {},
   "outputs": [],
   "source": [
    "#Simple Threshold\n",
    "_, new_img = cv2.threshold(img,150,255,cv2.THRESH_BINARY)\n"
   ]
  },
  {
   "cell_type": "code",
   "execution_count": 15,
   "id": "892bee38-df33-432e-a5fa-994cf8dc9107",
   "metadata": {},
   "outputs": [],
   "source": [
    "Image.fromarray(new_img).show()\n"
   ]
  },
  {
   "cell_type": "code",
   "execution_count": 16,
   "id": "b44cde23-a1c6-4d6a-a912-6cbadd104075",
   "metadata": {},
   "outputs": [],
   "source": [
    "#Adaptive Threshold\n",
    "new_img = cv2.adaptiveThreshold(img,255,\n",
    "                                cv2.ADAPTIVE_THRESH_GAUSSIAN_C,\n",
    "                                cv2.THRESH_BINARY,61,11)"
   ]
  },
  {
   "cell_type": "code",
   "execution_count": 17,
   "id": "51593b72-b018-4618-a380-f92d481647c3",
   "metadata": {},
   "outputs": [],
   "source": [
    "Image.fromarray(new_img).show()"
   ]
  },
  {
   "cell_type": "code",
   "execution_count": null,
   "id": "ea415597-fb81-4898-8962-b8c1351aa4ef",
   "metadata": {},
   "outputs": [],
   "source": []
  }
 ],
 "metadata": {
  "kernelspec": {
   "display_name": "Python 3 (ipykernel)",
   "language": "python",
   "name": "python3"
  },
  "language_info": {
   "codemirror_mode": {
    "name": "ipython",
    "version": 3
   },
   "file_extension": ".py",
   "mimetype": "text/x-python",
   "name": "python",
   "nbconvert_exporter": "python",
   "pygments_lexer": "ipython3",
   "version": "3.11.7"
  }
 },
 "nbformat": 4,
 "nbformat_minor": 5
}
